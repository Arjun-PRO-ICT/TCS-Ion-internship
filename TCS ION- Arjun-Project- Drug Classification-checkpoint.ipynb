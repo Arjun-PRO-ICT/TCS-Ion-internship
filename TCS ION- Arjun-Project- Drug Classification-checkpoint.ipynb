{
 "cells": [
  {
   "cell_type": "code",
   "execution_count": 1,
   "metadata": {},
   "outputs": [],
   "source": [
    "# Importing neccessary libraries\n",
    "\n",
    "import pandas as pd\n",
    "import numpy as np\n",
    "import matplotlib.pyplot as plt\n",
    "import seaborn as sns\n",
    "\n",
    "from sklearn.preprocessing import normalize\n",
    "\n",
    "from sklearn.preprocessing import LabelEncoder\n",
    "from sklearn.model_selection import train_test_split\n",
    "from sklearn.linear_model import LogisticRegression\n",
    "from sklearn.tree import DecisionTreeClassifier\n",
    "from sklearn.neighbors import KNeighborsClassifier\n",
    "from sklearn.ensemble import RandomForestClassifier\n",
    "from xgboost import XGBClassifier\n",
    "from sklearn.ensemble import RandomForestClassifier\n",
    "from sklearn.ensemble import GradientBoostingClassifier\n",
    "\n",
    "from sklearn.metrics import accuracy_score,classification_report,precision_score,f1_score,recall_score,confusion_matrix\n"
   ]
  },
  {
   "cell_type": "code",
   "execution_count": 2,
   "metadata": {},
   "outputs": [],
   "source": [
    "# Reading the dataset\n",
    "\n",
    "data1 = pd.read_csv('drug classification - Anjali.csv')"
   ]
  },
  {
   "cell_type": "code",
   "execution_count": 3,
   "metadata": {},
   "outputs": [
    {
     "data": {
      "text/html": [
       "<div>\n",
       "<style scoped>\n",
       "    .dataframe tbody tr th:only-of-type {\n",
       "        vertical-align: middle;\n",
       "    }\n",
       "\n",
       "    .dataframe tbody tr th {\n",
       "        vertical-align: top;\n",
       "    }\n",
       "\n",
       "    .dataframe thead th {\n",
       "        text-align: right;\n",
       "    }\n",
       "</style>\n",
       "<table border=\"1\" class=\"dataframe\">\n",
       "  <thead>\n",
       "    <tr style=\"text-align: right;\">\n",
       "      <th></th>\n",
       "      <th>Names</th>\n",
       "      <th>Age</th>\n",
       "      <th>Gender</th>\n",
       "      <th>Race</th>\n",
       "      <th>Side effects</th>\n",
       "    </tr>\n",
       "  </thead>\n",
       "  <tbody>\n",
       "    <tr>\n",
       "      <th>0</th>\n",
       "      <td>Carry</td>\n",
       "      <td>31.0</td>\n",
       "      <td>F</td>\n",
       "      <td>Black</td>\n",
       "      <td>sleep problems (insomnia)</td>\n",
       "    </tr>\n",
       "    <tr>\n",
       "      <th>1</th>\n",
       "      <td>Servando</td>\n",
       "      <td>55.0</td>\n",
       "      <td>M</td>\n",
       "      <td>Black</td>\n",
       "      <td>diarrhea</td>\n",
       "    </tr>\n",
       "    <tr>\n",
       "      <th>2</th>\n",
       "      <td>Julus</td>\n",
       "      <td>46.0</td>\n",
       "      <td>M</td>\n",
       "      <td>Asian</td>\n",
       "      <td>nausea</td>\n",
       "    </tr>\n",
       "    <tr>\n",
       "      <th>3</th>\n",
       "      <td>Hanako</td>\n",
       "      <td>49.0</td>\n",
       "      <td>F</td>\n",
       "      <td>Black</td>\n",
       "      <td>nausea</td>\n",
       "    </tr>\n",
       "    <tr>\n",
       "      <th>4</th>\n",
       "      <td>Joice</td>\n",
       "      <td>36.0</td>\n",
       "      <td>F</td>\n",
       "      <td>Asian</td>\n",
       "      <td>sleep problems (insomnia)</td>\n",
       "    </tr>\n",
       "  </tbody>\n",
       "</table>\n",
       "</div>"
      ],
      "text/plain": [
       "      Names   Age Gender   Race              Side effects \n",
       "0     Carry  31.0      F  Black  sleep problems (insomnia)\n",
       "1  Servando  55.0      M  Black                   diarrhea\n",
       "2     Julus  46.0      M  Asian                     nausea\n",
       "3    Hanako  49.0      F  Black                     nausea\n",
       "4     Joice  36.0      F  Asian  sleep problems (insomnia)"
      ]
     },
     "execution_count": 3,
     "metadata": {},
     "output_type": "execute_result"
    }
   ],
   "source": [
    "# Showing the first 5 rows of dataset\n",
    "\n",
    "data1.head()"
   ]
  },
  {
   "cell_type": "code",
   "execution_count": 4,
   "metadata": {
    "scrolled": true
   },
   "outputs": [
    {
     "data": {
      "text/html": [
       "<div>\n",
       "<style scoped>\n",
       "    .dataframe tbody tr th:only-of-type {\n",
       "        vertical-align: middle;\n",
       "    }\n",
       "\n",
       "    .dataframe tbody tr th {\n",
       "        vertical-align: top;\n",
       "    }\n",
       "\n",
       "    .dataframe thead th {\n",
       "        text-align: right;\n",
       "    }\n",
       "</style>\n",
       "<table border=\"1\" class=\"dataframe\">\n",
       "  <thead>\n",
       "    <tr style=\"text-align: right;\">\n",
       "      <th></th>\n",
       "      <th>Age</th>\n",
       "    </tr>\n",
       "  </thead>\n",
       "  <tbody>\n",
       "    <tr>\n",
       "      <th>count</th>\n",
       "      <td>399578.000000</td>\n",
       "    </tr>\n",
       "    <tr>\n",
       "      <th>mean</th>\n",
       "      <td>45.011577</td>\n",
       "    </tr>\n",
       "    <tr>\n",
       "      <th>std</th>\n",
       "      <td>9.008374</td>\n",
       "    </tr>\n",
       "    <tr>\n",
       "      <th>min</th>\n",
       "      <td>30.000000</td>\n",
       "    </tr>\n",
       "    <tr>\n",
       "      <th>25%</th>\n",
       "      <td>37.000000</td>\n",
       "    </tr>\n",
       "    <tr>\n",
       "      <th>50%</th>\n",
       "      <td>45.000000</td>\n",
       "    </tr>\n",
       "    <tr>\n",
       "      <th>75%</th>\n",
       "      <td>53.000000</td>\n",
       "    </tr>\n",
       "    <tr>\n",
       "      <th>max</th>\n",
       "      <td>198.000000</td>\n",
       "    </tr>\n",
       "  </tbody>\n",
       "</table>\n",
       "</div>"
      ],
      "text/plain": [
       "                 Age\n",
       "count  399578.000000\n",
       "mean       45.011577\n",
       "std         9.008374\n",
       "min        30.000000\n",
       "25%        37.000000\n",
       "50%        45.000000\n",
       "75%        53.000000\n",
       "max       198.000000"
      ]
     },
     "execution_count": 4,
     "metadata": {},
     "output_type": "execute_result"
    }
   ],
   "source": [
    "#descriptive statistics of dataset\n",
    "\n",
    "data1.describe()"
   ]
  },
  {
   "cell_type": "code",
   "execution_count": 5,
   "metadata": {},
   "outputs": [
    {
     "name": "stdout",
     "output_type": "stream",
     "text": [
      "<class 'pandas.core.frame.DataFrame'>\n",
      "RangeIndex: 400000 entries, 0 to 399999\n",
      "Data columns (total 5 columns):\n",
      " #   Column         Non-Null Count   Dtype  \n",
      "---  ------         --------------   -----  \n",
      " 0   Names          400000 non-null  object \n",
      " 1   Age            399578 non-null  float64\n",
      " 2   Gender         399595 non-null  object \n",
      " 3   Race           399692 non-null  object \n",
      " 4   Side effects   400000 non-null  object \n",
      "dtypes: float64(1), object(4)\n",
      "memory usage: 15.3+ MB\n"
     ]
    }
   ],
   "source": [
    "# Summary of dataset\n",
    "\n",
    "data1.info()"
   ]
  },
  {
   "cell_type": "code",
   "execution_count": 6,
   "metadata": {},
   "outputs": [
    {
     "data": {
      "text/plain": [
       "Names            20184\n",
       "Age                 52\n",
       "Gender               2\n",
       "Race                 3\n",
       "Side effects         4\n",
       "dtype: int64"
      ]
     },
     "execution_count": 6,
     "metadata": {},
     "output_type": "execute_result"
    }
   ],
   "source": [
    "# Checking no. of Unique values in each features\n",
    "\n",
    "data1.nunique()"
   ]
  },
  {
   "cell_type": "code",
   "execution_count": 7,
   "metadata": {},
   "outputs": [
    {
     "data": {
      "text/plain": [
       "Index(['Names', 'Age', 'Gender', 'Race', 'Side effects '], dtype='object')"
      ]
     },
     "execution_count": 7,
     "metadata": {},
     "output_type": "execute_result"
    }
   ],
   "source": [
    "data1.columns"
   ]
  },
  {
   "cell_type": "code",
   "execution_count": 8,
   "metadata": {},
   "outputs": [
    {
     "data": {
      "text/plain": [
       "Names              0\n",
       "Age              422\n",
       "Gender           405\n",
       "Race             308\n",
       "Side effects       0\n",
       "dtype: int64"
      ]
     },
     "execution_count": 8,
     "metadata": {},
     "output_type": "execute_result"
    }
   ],
   "source": [
    "#checking for missing values in columns\n",
    "\n",
    "data1.isna().sum()"
   ]
  },
  {
   "cell_type": "code",
   "execution_count": 9,
   "metadata": {},
   "outputs": [],
   "source": [
    "#There are 422 mssing values in feature \"Age\", 405 missing values in feature \"Gender\" and 0 missing values in feature \"Race\""
   ]
  },
  {
   "cell_type": "code",
   "execution_count": 10,
   "metadata": {},
   "outputs": [],
   "source": [
    "# filling the missing values with suitable mean, Median , Mode"
   ]
  },
  {
   "cell_type": "code",
   "execution_count": 11,
   "metadata": {
    "scrolled": true
   },
   "outputs": [
    {
     "data": {
      "text/plain": [
       "Names              0\n",
       "Age                0\n",
       "Gender           405\n",
       "Race             308\n",
       "Side effects       0\n",
       "dtype: int64"
      ]
     },
     "execution_count": 11,
     "metadata": {},
     "output_type": "execute_result"
    }
   ],
   "source": [
    "data1['Age']=data1['Age'].fillna(data1['Age'].median())\n",
    "data1.isna().sum()"
   ]
  },
  {
   "cell_type": "code",
   "execution_count": 12,
   "metadata": {},
   "outputs": [],
   "source": [
    "data1['Gender']=data1['Gender'].fillna(data1['Gender'].mode()[0])"
   ]
  },
  {
   "cell_type": "code",
   "execution_count": 13,
   "metadata": {},
   "outputs": [
    {
     "data": {
      "text/plain": [
       "Names              0\n",
       "Age                0\n",
       "Gender             0\n",
       "Race             308\n",
       "Side effects       0\n",
       "dtype: int64"
      ]
     },
     "execution_count": 13,
     "metadata": {},
     "output_type": "execute_result"
    }
   ],
   "source": [
    "data1.isna().sum()"
   ]
  },
  {
   "cell_type": "code",
   "execution_count": 14,
   "metadata": {},
   "outputs": [],
   "source": [
    "data1['Race']=data1['Race'].fillna(data1['Race'].mode()[0])"
   ]
  },
  {
   "cell_type": "code",
   "execution_count": 15,
   "metadata": {},
   "outputs": [
    {
     "data": {
      "text/plain": [
       "Names            0\n",
       "Age              0\n",
       "Gender           0\n",
       "Race             0\n",
       "Side effects     0\n",
       "dtype: int64"
      ]
     },
     "execution_count": 15,
     "metadata": {},
     "output_type": "execute_result"
    }
   ],
   "source": [
    "data1.isna().sum()"
   ]
  },
  {
   "cell_type": "code",
   "execution_count": 16,
   "metadata": {},
   "outputs": [],
   "source": [
    "# We have filled zero values in Age column with median and zero values in the columns Gender and Race were filled with respective Mode"
   ]
  },
  {
   "cell_type": "code",
   "execution_count": 17,
   "metadata": {},
   "outputs": [
    {
     "data": {
      "text/plain": [
       "<seaborn.axisgrid.PairGrid at 0x206008675b0>"
      ]
     },
     "execution_count": 17,
     "metadata": {},
     "output_type": "execute_result"
    },
    {
     "data": {
      "image/png": "[encoded data removed]",
      "text/plain": [
       "<Figure size 180x180 with 2 Axes>"
      ]
     },
     "metadata": {
      "needs_background": "light"
     },
     "output_type": "display_data"
    }
   ],
   "source": [
    "# plotting pairplot\n",
    "\n",
    "sns.pairplot(data1)"
   ]
  },
  {
   "cell_type": "code",
   "execution_count": 18,
   "metadata": {},
   "outputs": [],
   "source": [
    "# By analyzing the pair plot, we can find out that there are outliers present in the feature 'Age'\n"
   ]
  },
  {
   "cell_type": "code",
   "execution_count": 19,
   "metadata": {},
   "outputs": [
    {
     "data": {
      "text/plain": [
       "Text(0.5, 1.0, 'Box Plot of Age')"
      ]
     },
     "execution_count": 19,
     "metadata": {},
     "output_type": "execute_result"
    },
    {
     "data": {
      "image/png": "[encoded data removed]",
      "text/plain": [
       "<Figure size 432x288 with 1 Axes>"
      ]
     },
     "metadata": {
      "needs_background": "light"
     },
     "output_type": "display_data"
    }
   ],
   "source": [
    "# PLoting boxplot of feature 'Age' to find the outlier\n",
    "plt.boxplot(data1['Age'])\n",
    "plt.title('Box Plot of Age')"
   ]
  },
  {
   "cell_type": "code",
   "execution_count": 20,
   "metadata": {},
   "outputs": [
    {
     "name": "stdout",
     "output_type": "stream",
     "text": [
      "37.0\n",
      "45.0\n",
      "53.0\n"
     ]
    }
   ],
   "source": [
    "# checking for outliers for 'Work experience'\n",
    "# finding the index values of outliers using inter quartile range\n",
    "\n",
    "Q1=np.percentile(data1['Age'],25,interpolation='midpoint')\n",
    "Q2=np.percentile(data1['Age'],50,interpolation='midpoint')\n",
    "Q3=np.percentile(data1['Age'],75,interpolation='midpoint')\n",
    "\n",
    "print(Q1)\n",
    "print(Q2)\n",
    "print(Q3)"
   ]
  },
  {
   "cell_type": "code",
   "execution_count": 21,
   "metadata": {},
   "outputs": [
    {
     "name": "stdout",
     "output_type": "stream",
     "text": [
      "13.0\n",
      "77.0\n"
     ]
    }
   ],
   "source": [
    "IQR=Q3-Q1\n",
    "low_lim=Q1-1.5*IQR\n",
    "up_lim=Q3+1.5*IQR\n",
    "print(low_lim)\n",
    "print(up_lim)"
   ]
  },
  {
   "cell_type": "code",
   "execution_count": 22,
   "metadata": {},
   "outputs": [
    {
     "name": "stdout",
     "output_type": "stream",
     "text": [
      "[186.0, 194.0, 181.0, 197.0, 185.0, 169.0, 151.0, 184.0, 197.0, 185.0, 179.0, 182.0, 182.0, 161.0, 176.0, 181.0, 169.0, 157.0, 159.0, 163.0, 174.0, 193.0, 173.0, 154.0, 198.0, 170.0]\n"
     ]
    }
   ],
   "source": [
    "Outlier=[]\n",
    "for x in data1['Age']:\n",
    "    if ((x>up_lim)or(x<low_lim)):\n",
    "       Outlier.append(x)\n",
    "print(Outlier)"
   ]
  },
  {
   "cell_type": "code",
   "execution_count": 23,
   "metadata": {},
   "outputs": [
    {
     "data": {
      "text/plain": [
       "Int64Index([399923, 399925, 399927, 399929, 399930, 399934, 399937, 399938,\n",
       "            399939, 399945, 399946, 399947, 399949, 399950, 399951, 399952,\n",
       "            399954, 399955, 399957, 399970, 399971, 399972, 399973, 399975,\n",
       "            399976, 399978],\n",
       "           dtype='int64')"
      ]
     },
     "execution_count": 23,
     "metadata": {},
     "output_type": "execute_result"
    }
   ],
   "source": [
    "Ind=data1['Age']>up_lim\n",
    "data1.loc[Ind].index\n"
   ]
  },
  {
   "cell_type": "code",
   "execution_count": 24,
   "metadata": {},
   "outputs": [],
   "source": [
    "#droping the index values of outliers\n",
    "data1.drop([399923, 399925, 399927, 399929, 399930, 399934, 399937, 399938,\n",
    "            399939, 399945, 399946, 399947, 399949, 399950, 399951, 399952,\n",
    "            399954, 399955, 399957, 399970, 399971, 399972, 399973, 399975,\n",
    "            399976, 399978],inplace=True)"
   ]
  },
  {
   "cell_type": "code",
   "execution_count": 25,
   "metadata": {},
   "outputs": [
    {
     "data": {
      "text/plain": [
       "Text(0.5, 1.0, 'Box Plot of Age')"
      ]
     },
     "execution_count": 25,
     "metadata": {},
     "output_type": "execute_result"
    },
    {
     "data": {
      "image/png": "[encoded data removed]",
      "text/plain": [
       "<Figure size 432x288 with 1 Axes>"
      ]
     },
     "metadata": {
      "needs_background": "light"
     },
     "output_type": "display_data"
    }
   ],
   "source": [
    "#RepLoting boxplot of feature 'Age' to find the outlier\n",
    "plt.boxplot(data1['Age'])\n",
    "plt.title('Box Plot of Age')"
   ]
  },
  {
   "cell_type": "code",
   "execution_count": 26,
   "metadata": {},
   "outputs": [],
   "source": [
    "data2= data1.drop('Names',axis=1)"
   ]
  },
  {
   "cell_type": "markdown",
   "metadata": {},
   "source": [
    "# Label encoding"
   ]
  },
  {
   "cell_type": "code",
   "execution_count": 27,
   "metadata": {},
   "outputs": [],
   "source": [
    "# Here label Encoding was done on features \"gender and Race\"\n",
    "\n",
    "le = LabelEncoder()\n",
    "columns = ['Gender','Race']\n",
    "for col in columns:\n",
    "    data2[col] = le.fit_transform(data2[col])"
   ]
  },
  {
   "cell_type": "code",
   "execution_count": 28,
   "metadata": {},
   "outputs": [
    {
     "data": {
      "text/html": [
       "<div>\n",
       "<style scoped>\n",
       "    .dataframe tbody tr th:only-of-type {\n",
       "        vertical-align: middle;\n",
       "    }\n",
       "\n",
       "    .dataframe tbody tr th {\n",
       "        vertical-align: top;\n",
       "    }\n",
       "\n",
       "    .dataframe thead th {\n",
       "        text-align: right;\n",
       "    }\n",
       "</style>\n",
       "<table border=\"1\" class=\"dataframe\">\n",
       "  <thead>\n",
       "    <tr style=\"text-align: right;\">\n",
       "      <th></th>\n",
       "      <th>Age</th>\n",
       "      <th>Gender</th>\n",
       "      <th>Race</th>\n",
       "      <th>Side effects</th>\n",
       "    </tr>\n",
       "  </thead>\n",
       "  <tbody>\n",
       "    <tr>\n",
       "      <th>0</th>\n",
       "      <td>31.0</td>\n",
       "      <td>0</td>\n",
       "      <td>1</td>\n",
       "      <td>sleep problems (insomnia)</td>\n",
       "    </tr>\n",
       "    <tr>\n",
       "      <th>1</th>\n",
       "      <td>55.0</td>\n",
       "      <td>1</td>\n",
       "      <td>1</td>\n",
       "      <td>diarrhea</td>\n",
       "    </tr>\n",
       "    <tr>\n",
       "      <th>2</th>\n",
       "      <td>46.0</td>\n",
       "      <td>1</td>\n",
       "      <td>0</td>\n",
       "      <td>nausea</td>\n",
       "    </tr>\n",
       "    <tr>\n",
       "      <th>3</th>\n",
       "      <td>49.0</td>\n",
       "      <td>0</td>\n",
       "      <td>1</td>\n",
       "      <td>nausea</td>\n",
       "    </tr>\n",
       "    <tr>\n",
       "      <th>4</th>\n",
       "      <td>36.0</td>\n",
       "      <td>0</td>\n",
       "      <td>0</td>\n",
       "      <td>sleep problems (insomnia)</td>\n",
       "    </tr>\n",
       "  </tbody>\n",
       "</table>\n",
       "</div>"
      ],
      "text/plain": [
       "    Age  Gender  Race              Side effects \n",
       "0  31.0       0     1  sleep problems (insomnia)\n",
       "1  55.0       1     1                   diarrhea\n",
       "2  46.0       1     0                     nausea\n",
       "3  49.0       0     1                     nausea\n",
       "4  36.0       0     0  sleep problems (insomnia)"
      ]
     },
     "execution_count": 28,
     "metadata": {},
     "output_type": "execute_result"
    }
   ],
   "source": [
    "data2.head()"
   ]
  },
  {
   "cell_type": "code",
   "execution_count": 29,
   "metadata": {},
   "outputs": [],
   "source": [
    "#PLotting the correlation graph"
   ]
  },
  {
   "cell_type": "code",
   "execution_count": 30,
   "metadata": {},
   "outputs": [
    {
     "data": {
      "text/plain": [
       "(array([0.5, 1.5, 2.5]), <a list of 3 Text major ticklabel objects>)"
      ]
     },
     "execution_count": 30,
     "metadata": {},
     "output_type": "execute_result"
    },
    {
     "data": {
      "image/png": "[encoded data removed]",
      "text/plain": [
       "<Figure size 720x576 with 2 Axes>"
      ]
     },
     "metadata": {
      "needs_background": "light"
     },
     "output_type": "display_data"
    }
   ],
   "source": [
    "plt.figure(figsize=(10,8))\n",
    "plt.title('Capoten')\n",
    "sns.heatmap(data2.corr(),vmin=-1,vmax=1,annot=True,linewidth=0.2)\n",
    "plt.xticks(rotation=45)"
   ]
  },
  {
   "cell_type": "markdown",
   "metadata": {},
   "source": [
    "# Data Visualization"
   ]
  },
  {
   "cell_type": "code",
   "execution_count": 31,
   "metadata": {},
   "outputs": [
    {
     "data": {
      "image/png": "[encoded data removed]",
      "text/plain": [
       "<Figure size 1080x360 with 1 Axes>"
      ]
     },
     "metadata": {
      "needs_background": "light"
     },
     "output_type": "display_data"
    },
    {
     "data": {
      "image/png": "[encoded data removed]",
      "text/plain": [
       "<Figure size 1080x360 with 1 Axes>"
      ]
     },
     "metadata": {
      "needs_background": "light"
     },
     "output_type": "display_data"
    },
    {
     "data": {
      "image/png": "[encoded data removed]",
      "text/plain": [
       "<Figure size 1080x360 with 1 Axes>"
      ]
     },
     "metadata": {
      "needs_background": "light"
     },
     "output_type": "display_data"
    },
    {
     "data": {
      "image/png": "[encoded data removed]",
      "text/plain": [
       "<Figure size 1080x360 with 1 Axes>"
      ]
     },
     "metadata": {
      "needs_background": "light"
     },
     "output_type": "display_data"
    }
   ],
   "source": [
    "# Column names into list\n",
    "\n",
    "col_name =data2.columns.to_list()\n",
    "\n",
    "# Count plot of each attributes\n",
    "for i in col_name:\n",
    "    plt.figure(figsize=(15,5))\n",
    "    plt.title(\"Count of each values in column '{}'\".format(i))\n",
    "    sns.countplot(data2[i])\n",
    "    plt.show()"
   ]
  },
  {
   "cell_type": "markdown",
   "metadata": {},
   "source": [
    "# Feature Engineering"
   ]
  },
  {
   "cell_type": "code",
   "execution_count": 32,
   "metadata": {},
   "outputs": [],
   "source": [
    "#Feature Engineering has been done to increase understanding of features.\n",
    "\n",
    "# Grouping the age into different age groups\n",
    "\n",
    "def Age_group(x):\n",
    "    if x in range(30,41):\n",
    "        group = '30 to 40'\n",
    "    elif x in range(41,51):\n",
    "        group = '41 to 50'\n",
    "    elif x in range(51, 61):\n",
    "        group = '51 to 60'\n",
    "    return group"
   ]
  },
  {
   "cell_type": "code",
   "execution_count": 33,
   "metadata": {},
   "outputs": [
    {
     "data": {
      "text/html": [
       "<div>\n",
       "<style scoped>\n",
       "    .dataframe tbody tr th:only-of-type {\n",
       "        vertical-align: middle;\n",
       "    }\n",
       "\n",
       "    .dataframe tbody tr th {\n",
       "        vertical-align: top;\n",
       "    }\n",
       "\n",
       "    .dataframe thead th {\n",
       "        text-align: right;\n",
       "    }\n",
       "</style>\n",
       "<table border=\"1\" class=\"dataframe\">\n",
       "  <thead>\n",
       "    <tr style=\"text-align: right;\">\n",
       "      <th></th>\n",
       "      <th>Age</th>\n",
       "      <th>Gender</th>\n",
       "      <th>Race</th>\n",
       "      <th>Side effects</th>\n",
       "      <th>Age group</th>\n",
       "    </tr>\n",
       "  </thead>\n",
       "  <tbody>\n",
       "    <tr>\n",
       "      <th>0</th>\n",
       "      <td>31.0</td>\n",
       "      <td>0</td>\n",
       "      <td>1</td>\n",
       "      <td>sleep problems (insomnia)</td>\n",
       "      <td>30 to 40</td>\n",
       "    </tr>\n",
       "    <tr>\n",
       "      <th>1</th>\n",
       "      <td>55.0</td>\n",
       "      <td>1</td>\n",
       "      <td>1</td>\n",
       "      <td>diarrhea</td>\n",
       "      <td>51 to 60</td>\n",
       "    </tr>\n",
       "    <tr>\n",
       "      <th>2</th>\n",
       "      <td>46.0</td>\n",
       "      <td>1</td>\n",
       "      <td>0</td>\n",
       "      <td>nausea</td>\n",
       "      <td>41 to 50</td>\n",
       "    </tr>\n",
       "    <tr>\n",
       "      <th>3</th>\n",
       "      <td>49.0</td>\n",
       "      <td>0</td>\n",
       "      <td>1</td>\n",
       "      <td>nausea</td>\n",
       "      <td>41 to 50</td>\n",
       "    </tr>\n",
       "    <tr>\n",
       "      <th>4</th>\n",
       "      <td>36.0</td>\n",
       "      <td>0</td>\n",
       "      <td>0</td>\n",
       "      <td>sleep problems (insomnia)</td>\n",
       "      <td>30 to 40</td>\n",
       "    </tr>\n",
       "    <tr>\n",
       "      <th>...</th>\n",
       "      <td>...</td>\n",
       "      <td>...</td>\n",
       "      <td>...</td>\n",
       "      <td>...</td>\n",
       "      <td>...</td>\n",
       "    </tr>\n",
       "    <tr>\n",
       "      <th>399995</th>\n",
       "      <td>37.0</td>\n",
       "      <td>1</td>\n",
       "      <td>0</td>\n",
       "      <td>nausea</td>\n",
       "      <td>30 to 40</td>\n",
       "    </tr>\n",
       "    <tr>\n",
       "      <th>399996</th>\n",
       "      <td>43.0</td>\n",
       "      <td>1</td>\n",
       "      <td>0</td>\n",
       "      <td>sleep problems (insomnia)</td>\n",
       "      <td>41 to 50</td>\n",
       "    </tr>\n",
       "    <tr>\n",
       "      <th>399997</th>\n",
       "      <td>55.0</td>\n",
       "      <td>0</td>\n",
       "      <td>1</td>\n",
       "      <td>diarrhea</td>\n",
       "      <td>51 to 60</td>\n",
       "    </tr>\n",
       "    <tr>\n",
       "      <th>399998</th>\n",
       "      <td>54.0</td>\n",
       "      <td>1</td>\n",
       "      <td>0</td>\n",
       "      <td>diarrhea</td>\n",
       "      <td>51 to 60</td>\n",
       "    </tr>\n",
       "    <tr>\n",
       "      <th>399999</th>\n",
       "      <td>42.0</td>\n",
       "      <td>0</td>\n",
       "      <td>0</td>\n",
       "      <td>sleep problems (insomnia)</td>\n",
       "      <td>41 to 50</td>\n",
       "    </tr>\n",
       "  </tbody>\n",
       "</table>\n",
       "<p>399974 rows × 5 columns</p>\n",
       "</div>"
      ],
      "text/plain": [
       "         Age  Gender  Race              Side effects  Age group\n",
       "0       31.0       0     1  sleep problems (insomnia)  30 to 40\n",
       "1       55.0       1     1                   diarrhea  51 to 60\n",
       "2       46.0       1     0                     nausea  41 to 50\n",
       "3       49.0       0     1                     nausea  41 to 50\n",
       "4       36.0       0     0  sleep problems (insomnia)  30 to 40\n",
       "...      ...     ...   ...                        ...       ...\n",
       "399995  37.0       1     0                     nausea  30 to 40\n",
       "399996  43.0       1     0  sleep problems (insomnia)  41 to 50\n",
       "399997  55.0       0     1                   diarrhea  51 to 60\n",
       "399998  54.0       1     0                   diarrhea  51 to 60\n",
       "399999  42.0       0     0  sleep problems (insomnia)  41 to 50\n",
       "\n",
       "[399974 rows x 5 columns]"
      ]
     },
     "execution_count": 33,
     "metadata": {},
     "output_type": "execute_result"
    }
   ],
   "source": [
    "# adding the grouped age into the dataset\n",
    "\n",
    "data2['Age group'] = data2['Age'].apply(Age_group)\n",
    "data2"
   ]
  },
  {
   "cell_type": "code",
   "execution_count": 34,
   "metadata": {},
   "outputs": [
    {
     "data": {
      "text/plain": [
       "Age              31\n",
       "Gender            2\n",
       "Race              3\n",
       "Side effects      4\n",
       "Age group         3\n",
       "dtype: int64"
      ]
     },
     "execution_count": 34,
     "metadata": {},
     "output_type": "execute_result"
    }
   ],
   "source": [
    "#cheking unique values of attributes\n",
    "\n",
    "data2.nunique()"
   ]
  },
  {
   "cell_type": "code",
   "execution_count": 35,
   "metadata": {},
   "outputs": [
    {
     "data": {
      "text/plain": [
       "<Figure size 720x360 with 0 Axes>"
      ]
     },
     "metadata": {},
     "output_type": "display_data"
    },
    {
     "data": {
      "image/png": "[encoded data removed]",
      "text/plain": [
       "<Figure size 432x288 with 1 Axes>"
      ]
     },
     "metadata": {
      "needs_background": "light"
     },
     "output_type": "display_data"
    }
   ],
   "source": [
    "# Stack bar plot between Age group and Side effects\n",
    "\n",
    "E=pd.crosstab(data2['Side effects '],data2['Age group'])\n",
    "\n",
    "plt.figure(figsize=(10,5))\n",
    "E.plot.bar(stacked=True)\n",
    "plt.title( 'Barplot of Age group with Side effects')\n",
    "plt.legend(title='Side effects')\n",
    "plt.ylabel('Side effects ')\n",
    "plt.xticks(rotation=45)\n",
    "plt.show()"
   ]
  },
  {
   "cell_type": "markdown",
   "metadata": {},
   "source": [
    "# Splitting dataset into Target and Features"
   ]
  },
  {
   "cell_type": "code",
   "execution_count": 36,
   "metadata": {},
   "outputs": [],
   "source": [
    "x=data2.drop(['Side effects ','Age group'],axis=1)\n",
    "y=data2['Side effects ']"
   ]
  },
  {
   "cell_type": "code",
   "execution_count": 37,
   "metadata": {},
   "outputs": [],
   "source": [
    "# Spliting the Target and Features using Train Test split method\n",
    "x_train,x_test,y_train,y_test=train_test_split(x,y,random_state=42,test_size=0.2)"
   ]
  },
  {
   "cell_type": "code",
   "execution_count": 38,
   "metadata": {},
   "outputs": [
    {
     "data": {
      "text/plain": [
       "(319979, 3)"
      ]
     },
     "execution_count": 38,
     "metadata": {},
     "output_type": "execute_result"
    }
   ],
   "source": [
    "x_train.shape"
   ]
  },
  {
   "cell_type": "code",
   "execution_count": 39,
   "metadata": {},
   "outputs": [
    {
     "data": {
      "text/plain": [
       "(79995, 3)"
      ]
     },
     "execution_count": 39,
     "metadata": {},
     "output_type": "execute_result"
    }
   ],
   "source": [
    "x_test.shape"
   ]
  },
  {
   "cell_type": "markdown",
   "metadata": {},
   "source": [
    "# Logistic Regression"
   ]
  },
  {
   "cell_type": "code",
   "execution_count": 40,
   "metadata": {},
   "outputs": [
    {
     "name": "stderr",
     "output_type": "stream",
     "text": [
      "C:\\Users\\user\\anaconda3\\lib\\site-packages\\sklearn\\linear_model\\_logistic.py:762: ConvergenceWarning: lbfgs failed to converge (status=1):\n",
      "STOP: TOTAL NO. of ITERATIONS REACHED LIMIT.\n",
      "\n",
      "Increase the number of iterations (max_iter) or scale the data as shown in:\n",
      "    https://scikit-learn.org/stable/modules/preprocessing.html\n",
      "Please also refer to the documentation for alternative solver options:\n",
      "    https://scikit-learn.org/stable/modules/linear_model.html#logistic-regression\n",
      "  n_iter_i = _check_optimize_result(\n"
     ]
    },
    {
     "name": "stdout",
     "output_type": "stream",
     "text": [
      "\n",
      "Classification Report\n",
      "\n",
      "                           precision    recall  f1-score   support\n",
      "\n",
      "                 diarrhea       0.46      0.54      0.49     19263\n",
      "                   nausea       0.63      0.79      0.70     24246\n",
      "sleep problems (insomnia)       0.50      0.37      0.43     21854\n",
      "                 vomiting       0.20      0.14      0.16     14632\n",
      "\n",
      "                 accuracy                           0.50     79995\n",
      "                macro avg       0.45      0.46      0.45     79995\n",
      "             weighted avg       0.47      0.50      0.48     79995\n",
      "\n"
     ]
    },
    {
     "data": {
      "text/plain": [
       "array([[10356,   529,  5437,  2941],\n",
       "       [ 1692, 19170,   401,  2983],\n",
       "       [ 6346,  4840,  8070,  2598],\n",
       "       [ 4357,  6084,  2116,  2075]], dtype=int64)"
      ]
     },
     "execution_count": 40,
     "metadata": {},
     "output_type": "execute_result"
    }
   ],
   "source": [
    "log_model=LogisticRegression()\n",
    "log_model.fit(x_train,y_train)\n",
    "log_pred=log_model.predict(x_test)\n",
    "\n",
    "print('\\nClassification Report\\n')\n",
    "print(classification_report(y_test,log_pred))\n",
    "\n",
    "confusion_matrix(y_test,log_pred)"
   ]
  },
  {
   "cell_type": "code",
   "execution_count": 41,
   "metadata": {},
   "outputs": [
    {
     "data": {
      "text/plain": [
       "0.4959184949059316"
      ]
     },
     "execution_count": 41,
     "metadata": {},
     "output_type": "execute_result"
    }
   ],
   "source": [
    "log_acc=accuracy_score(y_test,log_pred)\n",
    "log_acc"
   ]
  },
  {
   "cell_type": "code",
   "execution_count": 42,
   "metadata": {},
   "outputs": [
    {
     "data": {
      "text/plain": [
       "0.4727482355156761"
      ]
     },
     "execution_count": 42,
     "metadata": {},
     "output_type": "execute_result"
    }
   ],
   "source": [
    "log_pre=precision_score(y_test,log_pred,average='weighted')\n",
    "log_pre"
   ]
  },
  {
   "cell_type": "code",
   "execution_count": 43,
   "metadata": {},
   "outputs": [
    {
     "data": {
      "text/plain": [
       "0.47699512749314493"
      ]
     },
     "execution_count": 43,
     "metadata": {},
     "output_type": "execute_result"
    }
   ],
   "source": [
    "log_f1=f1_score(y_test,log_pred,average='weighted')\n",
    "log_f1"
   ]
  },
  {
   "cell_type": "code",
   "execution_count": 44,
   "metadata": {},
   "outputs": [
    {
     "data": {
      "text/plain": [
       "0.4959184949059316"
      ]
     },
     "execution_count": 44,
     "metadata": {},
     "output_type": "execute_result"
    }
   ],
   "source": [
    "log_recall=recall_score(y_test,log_pred,average='weighted')\n",
    "log_recall"
   ]
  },
  {
   "cell_type": "markdown",
   "metadata": {},
   "source": [
    "# Decision Tree Classiifier"
   ]
  },
  {
   "cell_type": "code",
   "execution_count": 45,
   "metadata": {},
   "outputs": [],
   "source": [
    "# Decision Tree Classiifier\n",
    "\n",
    "dtree=DecisionTreeClassifier()\n",
    "dtree_model=dtree.fit(x_train,y_train)\n",
    "dtree_pred=dtree.predict(x_test)"
   ]
  },
  {
   "cell_type": "code",
   "execution_count": 46,
   "metadata": {},
   "outputs": [
    {
     "name": "stdout",
     "output_type": "stream",
     "text": [
      "                           precision    recall  f1-score   support\n",
      "\n",
      "                 diarrhea       0.85      0.89      0.87     19263\n",
      "                   nausea       0.83      0.80      0.82     24246\n",
      "sleep problems (insomnia)       0.77      0.82      0.79     21854\n",
      "                 vomiting       0.74      0.67      0.70     14632\n",
      "\n",
      "                 accuracy                           0.80     79995\n",
      "                macro avg       0.80      0.79      0.80     79995\n",
      "             weighted avg       0.80      0.80      0.80     79995\n",
      "\n"
     ]
    }
   ],
   "source": [
    "# checking the accuracy score,precision score,recall score,f1 score,classification report and confusion matrix\n",
    "\n",
    "dtree_class=classification_report(y_test,dtree_pred)\n",
    "\n",
    "print(dtree_class)"
   ]
  },
  {
   "cell_type": "code",
   "execution_count": 47,
   "metadata": {},
   "outputs": [],
   "source": [
    "dtree_acc=accuracy_score(y_test,dtree_pred)\n",
    "dtree_pre=precision_score(y_test,dtree_pred,average='weighted')\n",
    "dtree_f1=f1_score(y_test,dtree_pred,average='weighted')\n",
    "dtree_recall=recall_score(y_test,dtree_pred,average='weighted')\n",
    "dtree_matrix=confusion_matrix(y_test,dtree_pred)"
   ]
  },
  {
   "cell_type": "code",
   "execution_count": 48,
   "metadata": {},
   "outputs": [
    {
     "name": "stdout",
     "output_type": "stream",
     "text": [
      "Accuracy score is 0.8035252203262704\n",
      "Precision score is 0.8027166876311295\n",
      "F1 score is 0.8023596682991535\n",
      "Recall score is 0.8035252203262704\n",
      "\n",
      " Confusion Matrix\n",
      " [[17118   927   644   574]\n",
      " [   47 19476  2868  1855]\n",
      " [ 1455  1541 17923   935]\n",
      " [ 1531  1523  1817  9761]]\n"
     ]
    }
   ],
   "source": [
    "print('Accuracy score is',dtree_acc)\n",
    "print('Precision score is',dtree_pre)\n",
    "print('F1 score is',dtree_f1)\n",
    "print('Recall score is',dtree_recall)\n",
    "print('\\n Confusion Matrix\\n',dtree_matrix)"
   ]
  },
  {
   "cell_type": "markdown",
   "metadata": {},
   "source": [
    "# Random Forest Classifier"
   ]
  },
  {
   "cell_type": "code",
   "execution_count": 50,
   "metadata": {},
   "outputs": [
    {
     "name": "stdout",
     "output_type": "stream",
     "text": [
      "Accuracy score is: 0.8034627164197763\n",
      "\n",
      "Classification Report\n",
      "\n",
      "                           precision    recall  f1-score   support\n",
      "\n",
      "                 diarrhea       0.85      0.89      0.87     19263\n",
      "                   nausea       0.84      0.79      0.81     24246\n",
      "sleep problems (insomnia)       0.77      0.83      0.80     21854\n",
      "                 vomiting       0.74      0.67      0.70     14632\n",
      "\n",
      "                 accuracy                           0.80     79995\n",
      "                macro avg       0.80      0.79      0.80     79995\n",
      "             weighted avg       0.80      0.80      0.80     79995\n",
      "\n"
     ]
    },
    {
     "data": {
      "text/plain": [
       "array([[17118,   927,   644,   574],\n",
       "       [   47, 19236,  3108,  1855],\n",
       "       [ 1455,  1306, 18158,   935],\n",
       "       [ 1531,  1523,  1817,  9761]], dtype=int64)"
      ]
     },
     "execution_count": 50,
     "metadata": {},
     "output_type": "execute_result"
    }
   ],
   "source": [
    "\n",
    "clf=RandomForestClassifier(n_estimators=100)\n",
    "\n",
    "clf.fit(x_train,y_train)\n",
    "rfc_pred=clf.predict(x_test)\n",
    "\n",
    "print('Accuracy score is:',accuracy_score(y_test,rfc_pred))\n",
    "print('\\nClassification Report\\n')\n",
    "print(classification_report(y_test,rfc_pred))\n",
    "\n",
    "confusion_matrix(y_test,rfc_pred)"
   ]
  },
  {
   "cell_type": "code",
   "execution_count": 51,
   "metadata": {},
   "outputs": [
    {
     "data": {
      "text/plain": [
       "0.8034627164197763"
      ]
     },
     "execution_count": 51,
     "metadata": {},
     "output_type": "execute_result"
    }
   ],
   "source": [
    "rfc_acc=accuracy_score(y_test,rfc_pred)\n",
    "rfc_acc"
   ]
  },
  {
   "cell_type": "code",
   "execution_count": 52,
   "metadata": {},
   "outputs": [
    {
     "data": {
      "text/plain": [
       "0.8032397596428891"
      ]
     },
     "execution_count": 52,
     "metadata": {},
     "output_type": "execute_result"
    }
   ],
   "source": [
    "rfc_pre=precision_score(y_test,rfc_pred,average='weighted')\n",
    "rfc_pre"
   ]
  },
  {
   "cell_type": "code",
   "execution_count": 53,
   "metadata": {},
   "outputs": [
    {
     "data": {
      "text/plain": [
       "0.8023224546144178"
      ]
     },
     "execution_count": 53,
     "metadata": {},
     "output_type": "execute_result"
    }
   ],
   "source": [
    "rfc_f1=f1_score(y_test,rfc_pred,average='weighted')\n",
    "rfc_f1"
   ]
  },
  {
   "cell_type": "code",
   "execution_count": 54,
   "metadata": {},
   "outputs": [
    {
     "data": {
      "text/plain": [
       "0.8034627164197763"
      ]
     },
     "execution_count": 54,
     "metadata": {},
     "output_type": "execute_result"
    }
   ],
   "source": [
    "rfc_recall=recall_score(y_test,rfc_pred,average='weighted')\n",
    "rfc_recall"
   ]
  },
  {
   "cell_type": "markdown",
   "metadata": {},
   "source": [
    "# Extreme Gradiant Boost"
   ]
  },
  {
   "cell_type": "code",
   "execution_count": 55,
   "metadata": {},
   "outputs": [
    {
     "name": "stdout",
     "output_type": "stream",
     "text": [
      "Accuracy score is: 0.8035252203262704\n",
      "\n",
      "Classification Report\n",
      "\n",
      "                           precision    recall  f1-score   support\n",
      "\n",
      "                 diarrhea       0.85      0.89      0.87     19263\n",
      "                   nausea       0.83      0.80      0.82     24246\n",
      "sleep problems (insomnia)       0.77      0.82      0.79     21854\n",
      "                 vomiting       0.74      0.67      0.70     14632\n",
      "\n",
      "                 accuracy                           0.80     79995\n",
      "                macro avg       0.80      0.79      0.80     79995\n",
      "             weighted avg       0.80      0.80      0.80     79995\n",
      "\n"
     ]
    },
    {
     "data": {
      "text/plain": [
       "array([[17118,   927,   644,   574],\n",
       "       [   47, 19476,  2868,  1855],\n",
       "       [ 1455,  1541, 17923,   935],\n",
       "       [ 1531,  1523,  1817,  9761]], dtype=int64)"
      ]
     },
     "execution_count": 55,
     "metadata": {},
     "output_type": "execute_result"
    }
   ],
   "source": [
    "\n",
    "xgb=XGBClassifier()\n",
    "xgb.fit(x_train,y_train)\n",
    "xgb_pred=xgb.predict(x_test)\n",
    "\n",
    "print('Accuracy score is:',accuracy_score(y_test,xgb_pred))\n",
    "print('\\nClassification Report\\n')\n",
    "print(classification_report(y_test,xgb_pred))\n",
    "\n",
    "confusion_matrix(y_test,xgb_pred)"
   ]
  },
  {
   "cell_type": "code",
   "execution_count": 56,
   "metadata": {},
   "outputs": [
    {
     "data": {
      "text/plain": [
       "0.8035252203262704"
      ]
     },
     "execution_count": 56,
     "metadata": {},
     "output_type": "execute_result"
    }
   ],
   "source": [
    "xgb_acc=accuracy_score(y_test,xgb_pred)\n",
    "xgb_acc"
   ]
  },
  {
   "cell_type": "code",
   "execution_count": 57,
   "metadata": {},
   "outputs": [
    {
     "data": {
      "text/plain": [
       "0.8027166876311295"
      ]
     },
     "execution_count": 57,
     "metadata": {},
     "output_type": "execute_result"
    }
   ],
   "source": [
    "xgb_pre=precision_score(y_test,xgb_pred,average='weighted')\n",
    "xgb_pre"
   ]
  },
  {
   "cell_type": "code",
   "execution_count": 58,
   "metadata": {},
   "outputs": [
    {
     "data": {
      "text/plain": [
       "0.8023596682991535"
      ]
     },
     "execution_count": 58,
     "metadata": {},
     "output_type": "execute_result"
    }
   ],
   "source": [
    "xgb_f1=f1_score(y_test,xgb_pred,average='weighted')\n",
    "xgb_f1"
   ]
  },
  {
   "cell_type": "code",
   "execution_count": 59,
   "metadata": {},
   "outputs": [
    {
     "data": {
      "text/plain": [
       "0.8035252203262704"
      ]
     },
     "execution_count": 59,
     "metadata": {},
     "output_type": "execute_result"
    }
   ],
   "source": [
    "xgb_recall=recall_score(y_test,xgb_pred,average='weighted')\n",
    "xgb_recall"
   ]
  },
  {
   "cell_type": "markdown",
   "metadata": {},
   "source": [
    "# Gradient Boost"
   ]
  },
  {
   "cell_type": "code",
   "execution_count": 60,
   "metadata": {},
   "outputs": [
    {
     "name": "stdout",
     "output_type": "stream",
     "text": [
      "Accuracy score is: 0.8019876242265142\n",
      "\n",
      "Classification Report\n",
      "\n",
      "                           precision    recall  f1-score   support\n",
      "\n",
      "                 diarrhea       0.85      0.89      0.87     19263\n",
      "                   nausea       0.79      0.87      0.83     24246\n",
      "sleep problems (insomnia)       0.79      0.77      0.78     21854\n",
      "                 vomiting       0.77      0.62      0.69     14632\n",
      "\n",
      "                 accuracy                           0.80     79995\n",
      "                macro avg       0.80      0.79      0.79     79995\n",
      "             weighted avg       0.80      0.80      0.80     79995\n",
      "\n"
     ]
    },
    {
     "data": {
      "text/plain": [
       "array([[17118,   927,   644,   574],\n",
       "       [   47, 21085,  2086,  1028],\n",
       "       [ 1455,  2521, 16825,  1053],\n",
       "       [ 1531,  2233,  1741,  9127]], dtype=int64)"
      ]
     },
     "execution_count": 60,
     "metadata": {},
     "output_type": "execute_result"
    }
   ],
   "source": [
    "gb=GradientBoostingClassifier()\n",
    "gb.fit(x_train,y_train)\n",
    "\n",
    "gb_pred=gb.predict(x_test)\n",
    "gb_acc=accuracy_score(y_test,gb_pred)\n",
    "\n",
    "print('Accuracy score is:',gb_acc)\n",
    "print('\\nClassification Report\\n')\n",
    "print(classification_report(y_test,gb_pred))\n",
    "\n",
    "confusion_matrix(y_test,gb_pred)"
   ]
  },
  {
   "cell_type": "code",
   "execution_count": 61,
   "metadata": {},
   "outputs": [
    {
     "data": {
      "text/plain": [
       "0.8019876242265142"
      ]
     },
     "execution_count": 61,
     "metadata": {},
     "output_type": "execute_result"
    }
   ],
   "source": [
    "gb_acc=accuracy_score(y_test,gb_pred)\n",
    "gb_acc"
   ]
  },
  {
   "cell_type": "code",
   "execution_count": 62,
   "metadata": {},
   "outputs": [
    {
     "data": {
      "text/plain": [
       "0.800851790200191"
      ]
     },
     "execution_count": 62,
     "metadata": {},
     "output_type": "execute_result"
    }
   ],
   "source": [
    "gb_pre=precision_score(y_test,gb_pred,average='weighted')\n",
    "gb_pre"
   ]
  },
  {
   "cell_type": "code",
   "execution_count": 63,
   "metadata": {},
   "outputs": [
    {
     "data": {
      "text/plain": [
       "0.7991759735967908"
      ]
     },
     "execution_count": 63,
     "metadata": {},
     "output_type": "execute_result"
    }
   ],
   "source": [
    "gb_f1=f1_score(y_test,gb_pred,average='weighted')\n",
    "gb_f1"
   ]
  },
  {
   "cell_type": "code",
   "execution_count": 64,
   "metadata": {},
   "outputs": [
    {
     "data": {
      "text/plain": [
       "0.8019876242265142"
      ]
     },
     "execution_count": 64,
     "metadata": {},
     "output_type": "execute_result"
    }
   ],
   "source": [
    "gb_recall=recall_score(y_test,gb_pred,average='weighted')\n",
    "gb_recall"
   ]
  },
  {
   "cell_type": "markdown",
   "metadata": {},
   "source": [
    "# KNN"
   ]
  },
  {
   "cell_type": "code",
   "execution_count": 65,
   "metadata": {},
   "outputs": [],
   "source": [
    "empty_list=[]\n",
    "neighbors= np.arange(3,15)\n",
    "\n",
    "for k in neighbors:\n",
    "    \n",
    "    classifier=KNeighborsClassifier(n_neighbors=k,metric='minkowski')\n",
    "    classifier.fit(x_train,y_train)\n",
    "    \n",
    "    pred=classifier.predict(x_test)\n",
    "    acc=accuracy_score(y_test,pred)\n",
    "    empty_list.append(acc)    "
   ]
  },
  {
   "cell_type": "code",
   "execution_count": 66,
   "metadata": {},
   "outputs": [
    {
     "data": {
      "text/plain": [
       "Text(0, 0.5, 'Accuracy')"
      ]
     },
     "execution_count": 66,
     "metadata": {},
     "output_type": "execute_result"
    },
    {
     "data": {
      "image/png": "[encoded data removed]",
      "text/plain": [
       "<Figure size 432x288 with 1 Axes>"
      ]
     },
     "metadata": {
      "needs_background": "light"
     },
     "output_type": "display_data"
    }
   ],
   "source": [
    "plt.plot(neighbors,empty_list,'*-')\n",
    "plt.xlabel('k-values')\n",
    "plt.ylabel('Accuracy')"
   ]
  },
  {
   "cell_type": "code",
   "execution_count": 67,
   "metadata": {},
   "outputs": [],
   "source": [
    "# Highest accuracy is for the k value 10\n",
    "# Remodelling with highest accuracy k value (10)\n",
    "\n",
    "classifier=KNeighborsClassifier(n_neighbors=(10),metric='minkowski')\n",
    "classifier.fit(x_train,y_train)\n",
    "knn_pred=classifier.predict(x_test)"
   ]
  },
  {
   "cell_type": "code",
   "execution_count": 68,
   "metadata": {},
   "outputs": [
    {
     "name": "stdout",
     "output_type": "stream",
     "text": [
      "Accuracy score is: 0.7926620413775861\n",
      "\n",
      "Classification Report\n",
      "\n",
      "                           precision    recall  f1-score   support\n",
      "\n",
      "                 diarrhea       0.86      0.88      0.87     19263\n",
      "                   nausea       0.77      0.84      0.81     24246\n",
      "sleep problems (insomnia)       0.79      0.77      0.78     21854\n",
      "                 vomiting       0.74      0.63      0.68     14632\n",
      "\n",
      "                 accuracy                           0.79     79995\n",
      "                macro avg       0.79      0.78      0.78     79995\n",
      "             weighted avg       0.79      0.79      0.79     79995\n",
      "\n"
     ]
    },
    {
     "data": {
      "text/plain": [
       "array([[16933,   912,   699,   719],\n",
       "       [   79, 20383,  2354,  1430],\n",
       "       [ 1499,  2449, 16814,  1092],\n",
       "       [ 1277,  2563,  1513,  9279]], dtype=int64)"
      ]
     },
     "execution_count": 68,
     "metadata": {},
     "output_type": "execute_result"
    }
   ],
   "source": [
    "print('Accuracy score is:',accuracy_score(y_test,knn_pred))\n",
    "print('\\nClassification Report\\n')\n",
    "print(classification_report(y_test,knn_pred))\n",
    "\n",
    "confusion_matrix(y_test,knn_pred)"
   ]
  },
  {
   "cell_type": "code",
   "execution_count": 69,
   "metadata": {},
   "outputs": [],
   "source": [
    "empty_list=[]\n",
    "neighbors= np.arange(3,15)\n",
    "\n",
    "for k in neighbors:\n",
    "    \n",
    "    classifier=KNeighborsClassifier(n_neighbors=10,metric='minkowski')\n",
    "    classifier.fit(x_train,y_train)\n",
    "    \n",
    "    pred=classifier.predict(x_test)\n",
    "    acc=accuracy_score(y_test,pred)\n",
    "    empty_list.append(acc)    "
   ]
  },
  {
   "cell_type": "code",
   "execution_count": 70,
   "metadata": {},
   "outputs": [
    {
     "data": {
      "text/plain": [
       "Text(0, 0.5, 'Accuracy')"
      ]
     },
     "execution_count": 70,
     "metadata": {},
     "output_type": "execute_result"
    },
    {
     "data": {
      "image/png": "[encoded data removed]",
      "text/plain": [
       "<Figure size 432x288 with 1 Axes>"
      ]
     },
     "metadata": {
      "needs_background": "light"
     },
     "output_type": "display_data"
    }
   ],
   "source": [
    "plt.plot(neighbors,empty_list,'*-')\n",
    "plt.xlabel('k-values')\n",
    "plt.ylabel('Accuracy')"
   ]
  },
  {
   "cell_type": "code",
   "execution_count": 71,
   "metadata": {},
   "outputs": [
    {
     "data": {
      "text/plain": [
       "0.7926620413775861"
      ]
     },
     "execution_count": 71,
     "metadata": {},
     "output_type": "execute_result"
    }
   ],
   "source": [
    "knn_acc=accuracy_score(y_test,knn_pred)\n",
    "knn_acc"
   ]
  },
  {
   "cell_type": "code",
   "execution_count": 72,
   "metadata": {},
   "outputs": [
    {
     "data": {
      "text/plain": [
       "0.7913107511192259"
      ]
     },
     "execution_count": 72,
     "metadata": {},
     "output_type": "execute_result"
    }
   ],
   "source": [
    "knn_pre=precision_score(y_test,knn_pred,average='weighted')\n",
    "knn_pre"
   ]
  },
  {
   "cell_type": "code",
   "execution_count": 73,
   "metadata": {},
   "outputs": [
    {
     "data": {
      "text/plain": [
       "0.7907551676520204"
      ]
     },
     "execution_count": 73,
     "metadata": {},
     "output_type": "execute_result"
    }
   ],
   "source": [
    "knn_f1=f1_score(y_test,knn_pred,average='weighted')\n",
    "knn_f1"
   ]
  },
  {
   "cell_type": "code",
   "execution_count": 74,
   "metadata": {},
   "outputs": [
    {
     "data": {
      "text/plain": [
       "0.7926620413775861"
      ]
     },
     "execution_count": 74,
     "metadata": {},
     "output_type": "execute_result"
    }
   ],
   "source": [
    "knn_recall=recall_score(y_test,knn_pred,average='weighted')\n",
    "knn_recall"
   ]
  },
  {
   "cell_type": "markdown",
   "metadata": {},
   "source": [
    "# Scaling the dataset"
   ]
  },
  {
   "cell_type": "markdown",
   "metadata": {},
   "source": [
    "# Normalize"
   ]
  },
  {
   "cell_type": "code",
   "execution_count": 78,
   "metadata": {},
   "outputs": [
    {
     "data": {
      "text/html": [
       "<div>\n",
       "<style scoped>\n",
       "    .dataframe tbody tr th:only-of-type {\n",
       "        vertical-align: middle;\n",
       "    }\n",
       "\n",
       "    .dataframe tbody tr th {\n",
       "        vertical-align: top;\n",
       "    }\n",
       "\n",
       "    .dataframe thead th {\n",
       "        text-align: right;\n",
       "    }\n",
       "</style>\n",
       "<table border=\"1\" class=\"dataframe\">\n",
       "  <thead>\n",
       "    <tr style=\"text-align: right;\">\n",
       "      <th></th>\n",
       "      <th>0</th>\n",
       "      <th>1</th>\n",
       "      <th>2</th>\n",
       "    </tr>\n",
       "  </thead>\n",
       "  <tbody>\n",
       "    <tr>\n",
       "      <th>count</th>\n",
       "      <td>399974.000000</td>\n",
       "      <td>399974.000000</td>\n",
       "      <td>399974.000000</td>\n",
       "    </tr>\n",
       "    <tr>\n",
       "      <th>mean</th>\n",
       "      <td>0.999411</td>\n",
       "      <td>0.010254</td>\n",
       "      <td>0.023139</td>\n",
       "    </tr>\n",
       "    <tr>\n",
       "      <th>std</th>\n",
       "      <td>0.000591</td>\n",
       "      <td>0.011933</td>\n",
       "      <td>0.019870</td>\n",
       "    </tr>\n",
       "    <tr>\n",
       "      <th>min</th>\n",
       "      <td>0.997234</td>\n",
       "      <td>0.000000</td>\n",
       "      <td>0.000000</td>\n",
       "    </tr>\n",
       "    <tr>\n",
       "      <th>25%</th>\n",
       "      <td>0.999136</td>\n",
       "      <td>0.000000</td>\n",
       "      <td>0.000000</td>\n",
       "    </tr>\n",
       "    <tr>\n",
       "      <th>50%</th>\n",
       "      <td>0.999614</td>\n",
       "      <td>0.000000</td>\n",
       "      <td>0.022217</td>\n",
       "    </tr>\n",
       "    <tr>\n",
       "      <th>75%</th>\n",
       "      <td>0.999835</td>\n",
       "      <td>0.021267</td>\n",
       "      <td>0.037709</td>\n",
       "    </tr>\n",
       "    <tr>\n",
       "      <th>max</th>\n",
       "      <td>1.000000</td>\n",
       "      <td>0.033315</td>\n",
       "      <td>0.066519</td>\n",
       "    </tr>\n",
       "  </tbody>\n",
       "</table>\n",
       "</div>"
      ],
      "text/plain": [
       "                   0              1              2\n",
       "count  399974.000000  399974.000000  399974.000000\n",
       "mean        0.999411       0.010254       0.023139\n",
       "std         0.000591       0.011933       0.019870\n",
       "min         0.997234       0.000000       0.000000\n",
       "25%         0.999136       0.000000       0.000000\n",
       "50%         0.999614       0.000000       0.022217\n",
       "75%         0.999835       0.021267       0.037709\n",
       "max         1.000000       0.033315       0.066519"
      ]
     },
     "execution_count": 78,
     "metadata": {},
     "output_type": "execute_result"
    }
   ],
   "source": [
    "x=data2.drop(['Side effects ','Age group'],axis=1)\n",
    "x=normalize(x)\n",
    "x=pd.DataFrame(x)\n",
    "x.describe()"
   ]
  },
  {
   "cell_type": "code",
   "execution_count": 79,
   "metadata": {},
   "outputs": [
    {
     "name": "stderr",
     "output_type": "stream",
     "text": [
      "C:\\Users\\user\\anaconda3\\lib\\site-packages\\sklearn\\linear_model\\_logistic.py:762: ConvergenceWarning: lbfgs failed to converge (status=1):\n",
      "STOP: TOTAL NO. of ITERATIONS REACHED LIMIT.\n",
      "\n",
      "Increase the number of iterations (max_iter) or scale the data as shown in:\n",
      "    https://scikit-learn.org/stable/modules/preprocessing.html\n",
      "Please also refer to the documentation for alternative solver options:\n",
      "    https://scikit-learn.org/stable/modules/linear_model.html#logistic-regression\n",
      "  n_iter_i = _check_optimize_result(\n"
     ]
    },
    {
     "name": "stdout",
     "output_type": "stream",
     "text": [
      "Accuracy score is: 0.4959184949059316\n",
      "\n",
      "Classification Report\n",
      "\n",
      "                           precision    recall  f1-score   support\n",
      "\n",
      "                 diarrhea       0.46      0.54      0.49     19263\n",
      "                   nausea       0.63      0.79      0.70     24246\n",
      "sleep problems (insomnia)       0.50      0.37      0.43     21854\n",
      "                 vomiting       0.20      0.14      0.16     14632\n",
      "\n",
      "                 accuracy                           0.50     79995\n",
      "                macro avg       0.45      0.46      0.45     79995\n",
      "             weighted avg       0.47      0.50      0.48     79995\n",
      "\n"
     ]
    },
    {
     "data": {
      "text/plain": [
       "array([[10356,   529,  5437,  2941],\n",
       "       [ 1692, 19170,   401,  2983],\n",
       "       [ 6346,  4840,  8070,  2598],\n",
       "       [ 4357,  6084,  2116,  2075]], dtype=int64)"
      ]
     },
     "execution_count": 79,
     "metadata": {},
     "output_type": "execute_result"
    }
   ],
   "source": [
    "# Logisitic regression\n",
    "\n",
    "\n",
    "log_model=LogisticRegression()\n",
    "log_model.fit(x_train,y_train)\n",
    "\n",
    "pred1=log_model.predict(x_test)\n",
    "\n",
    "print('Accuracy score is:',accuracy_score(y_test,pred1))\n",
    "print('\\nClassification Report\\n')\n",
    "print(classification_report(y_test,pred1))\n",
    "\n",
    "confusion_matrix(y_test,pred1)"
   ]
  },
  {
   "cell_type": "code",
   "execution_count": 80,
   "metadata": {},
   "outputs": [
    {
     "data": {
      "text/plain": [
       "0.4959184949059316"
      ]
     },
     "execution_count": 80,
     "metadata": {},
     "output_type": "execute_result"
    }
   ],
   "source": [
    "log_acc1=accuracy_score(y_test,pred1)\n",
    "log_acc1"
   ]
  },
  {
   "cell_type": "code",
   "execution_count": 81,
   "metadata": {},
   "outputs": [
    {
     "data": {
      "text/plain": [
       "0.4727482355156761"
      ]
     },
     "execution_count": 81,
     "metadata": {},
     "output_type": "execute_result"
    }
   ],
   "source": [
    "log_pre1=precision_score(y_test,pred1,average='weighted')\n",
    "log_pre1"
   ]
  },
  {
   "cell_type": "code",
   "execution_count": 82,
   "metadata": {},
   "outputs": [
    {
     "data": {
      "text/plain": [
       "0.47699512749314493"
      ]
     },
     "execution_count": 82,
     "metadata": {},
     "output_type": "execute_result"
    }
   ],
   "source": [
    "log_f11=f1_score(y_test,pred1,average='weighted')\n",
    "log_f11"
   ]
  },
  {
   "cell_type": "code",
   "execution_count": 83,
   "metadata": {},
   "outputs": [
    {
     "data": {
      "text/plain": [
       "0.4959184949059316"
      ]
     },
     "execution_count": 83,
     "metadata": {},
     "output_type": "execute_result"
    }
   ],
   "source": [
    "log_recall1=recall_score(y_test,pred1,average='weighted')\n",
    "log_recall1"
   ]
  },
  {
   "cell_type": "code",
   "execution_count": 84,
   "metadata": {},
   "outputs": [
    {
     "name": "stdout",
     "output_type": "stream",
     "text": [
      "                           precision    recall  f1-score   support\n",
      "\n",
      "                 diarrhea       0.85      0.89      0.87     19263\n",
      "                   nausea       0.83      0.80      0.82     24246\n",
      "sleep problems (insomnia)       0.77      0.82      0.79     21854\n",
      "                 vomiting       0.74      0.67      0.70     14632\n",
      "\n",
      "                 accuracy                           0.80     79995\n",
      "                macro avg       0.80      0.79      0.80     79995\n",
      "             weighted avg       0.80      0.80      0.80     79995\n",
      "\n"
     ]
    }
   ],
   "source": [
    "# Decision Tree\n",
    "\n",
    "\n",
    "dtree=DecisionTreeClassifier(criterion='entropy')\n",
    "dtree_model=dtree.fit(x_train,y_train)\n",
    "dtree_pred1=dtree.predict(x_test)\n",
    "\n",
    "\n",
    "dtree_class1=classification_report(y_test,dtree_pred1)\n",
    "dtree_matrix=confusion_matrix(y_test,dtree_pred1)\n",
    "print(dtree_class1)"
   ]
  },
  {
   "cell_type": "code",
   "execution_count": 85,
   "metadata": {},
   "outputs": [
    {
     "data": {
      "text/plain": [
       "0.8035252203262704"
      ]
     },
     "execution_count": 85,
     "metadata": {},
     "output_type": "execute_result"
    }
   ],
   "source": [
    "dtree_acc1=accuracy_score(y_test,dtree_pred1)\n",
    "dtree_acc1"
   ]
  },
  {
   "cell_type": "code",
   "execution_count": 86,
   "metadata": {},
   "outputs": [
    {
     "data": {
      "text/plain": [
       "0.8027166876311295"
      ]
     },
     "execution_count": 86,
     "metadata": {},
     "output_type": "execute_result"
    }
   ],
   "source": [
    "dtree_pre1=precision_score(y_test,dtree_pred1,average='weighted')\n",
    "dtree_pre1"
   ]
  },
  {
   "cell_type": "code",
   "execution_count": 87,
   "metadata": {},
   "outputs": [
    {
     "data": {
      "text/plain": [
       "0.8023596682991535"
      ]
     },
     "execution_count": 87,
     "metadata": {},
     "output_type": "execute_result"
    }
   ],
   "source": [
    "dtree_f11=f1_score(y_test,dtree_pred1,average='weighted')\n",
    "dtree_f11"
   ]
  },
  {
   "cell_type": "code",
   "execution_count": 88,
   "metadata": {},
   "outputs": [
    {
     "data": {
      "text/plain": [
       "0.8035252203262704"
      ]
     },
     "execution_count": 88,
     "metadata": {},
     "output_type": "execute_result"
    }
   ],
   "source": [
    "dtree_recall1=recall_score(y_test,dtree_pred1,average='weighted')\n",
    "dtree_recall1"
   ]
  },
  {
   "cell_type": "code",
   "execution_count": 89,
   "metadata": {},
   "outputs": [
    {
     "name": "stdout",
     "output_type": "stream",
     "text": [
      "\n",
      "Classification Report\n",
      "\n",
      "                           precision    recall  f1-score   support\n",
      "\n",
      "                 diarrhea       0.85      0.89      0.87     19263\n",
      "                   nausea       0.84      0.79      0.81     24246\n",
      "sleep problems (insomnia)       0.77      0.83      0.80     21854\n",
      "                 vomiting       0.74      0.67      0.70     14632\n",
      "\n",
      "                 accuracy                           0.80     79995\n",
      "                macro avg       0.80      0.79      0.80     79995\n",
      "             weighted avg       0.80      0.80      0.80     79995\n",
      "\n"
     ]
    },
    {
     "data": {
      "text/plain": [
       "array([[17118,   927,   644,   574],\n",
       "       [   47, 19236,  3108,  1855],\n",
       "       [ 1455,  1306, 18158,   935],\n",
       "       [ 1531,  1523,  1817,  9761]], dtype=int64)"
      ]
     },
     "execution_count": 89,
     "metadata": {},
     "output_type": "execute_result"
    }
   ],
   "source": [
    "# Random Forest Classifier\n",
    "\n",
    "\n",
    "clf=RandomForestClassifier(n_estimators=100)\n",
    "\n",
    "clf.fit(x_train,y_train)\n",
    "rfc_pred1=clf.predict(x_test)\n",
    "\n",
    "print('\\nClassification Report\\n')\n",
    "print(classification_report(y_test,rfc_pred1))\n",
    "\n",
    "confusion_matrix(y_test,rfc_pred1)"
   ]
  },
  {
   "cell_type": "code",
   "execution_count": 90,
   "metadata": {},
   "outputs": [
    {
     "data": {
      "text/plain": [
       "0.8034627164197763"
      ]
     },
     "execution_count": 90,
     "metadata": {},
     "output_type": "execute_result"
    }
   ],
   "source": [
    "rfc_acc1=accuracy_score(y_test,rfc_pred1)\n",
    "rfc_acc1"
   ]
  },
  {
   "cell_type": "code",
   "execution_count": 91,
   "metadata": {},
   "outputs": [
    {
     "data": {
      "text/plain": [
       "0.8032397596428891"
      ]
     },
     "execution_count": 91,
     "metadata": {},
     "output_type": "execute_result"
    }
   ],
   "source": [
    "rfc_pre1=precision_score(y_test,rfc_pred1,average='weighted')\n",
    "rfc_pre1"
   ]
  },
  {
   "cell_type": "code",
   "execution_count": 92,
   "metadata": {},
   "outputs": [
    {
     "data": {
      "text/plain": [
       "0.8023224546144178"
      ]
     },
     "execution_count": 92,
     "metadata": {},
     "output_type": "execute_result"
    }
   ],
   "source": [
    "rfc_f11=f1_score(y_test,rfc_pred1,average='weighted')\n",
    "rfc_f11"
   ]
  },
  {
   "cell_type": "code",
   "execution_count": 93,
   "metadata": {},
   "outputs": [
    {
     "data": {
      "text/plain": [
       "0.8034627164197763"
      ]
     },
     "execution_count": 93,
     "metadata": {},
     "output_type": "execute_result"
    }
   ],
   "source": [
    "rfc_recall1=recall_score(y_test,rfc_pred1,average='weighted')\n",
    "rfc_recall1"
   ]
  },
  {
   "cell_type": "code",
   "execution_count": 94,
   "metadata": {},
   "outputs": [
    {
     "name": "stdout",
     "output_type": "stream",
     "text": [
      "\n",
      "Classification Report\n",
      "\n",
      "                           precision    recall  f1-score   support\n",
      "\n",
      "                 diarrhea       0.85      0.89      0.87     19263\n",
      "                   nausea       0.79      0.87      0.83     24246\n",
      "sleep problems (insomnia)       0.79      0.77      0.78     21854\n",
      "                 vomiting       0.77      0.62      0.69     14632\n",
      "\n",
      "                 accuracy                           0.80     79995\n",
      "                macro avg       0.80      0.79      0.79     79995\n",
      "             weighted avg       0.80      0.80      0.80     79995\n",
      "\n"
     ]
    },
    {
     "data": {
      "text/plain": [
       "array([[17118,   927,   644,   574],\n",
       "       [   47, 21085,  2086,  1028],\n",
       "       [ 1455,  2521, 16825,  1053],\n",
       "       [ 1531,  2233,  1741,  9127]], dtype=int64)"
      ]
     },
     "execution_count": 94,
     "metadata": {},
     "output_type": "execute_result"
    }
   ],
   "source": [
    "#Gradient Boosting\n",
    "\n",
    "gb=GradientBoostingClassifier()\n",
    "gb.fit(x_train,y_train)\n",
    "\n",
    "gb_pred1=gb.predict(x_test)\n",
    "\n",
    "print('\\nClassification Report\\n')\n",
    "print(classification_report(y_test,gb_pred1))\n",
    "\n",
    "confusion_matrix(y_test,gb_pred1)"
   ]
  },
  {
   "cell_type": "code",
   "execution_count": 95,
   "metadata": {},
   "outputs": [
    {
     "data": {
      "text/plain": [
       "0.8019876242265142"
      ]
     },
     "execution_count": 95,
     "metadata": {},
     "output_type": "execute_result"
    }
   ],
   "source": [
    "gb_acc1=accuracy_score(y_test,gb_pred1)\n",
    "gb_acc1"
   ]
  },
  {
   "cell_type": "code",
   "execution_count": 96,
   "metadata": {},
   "outputs": [
    {
     "data": {
      "text/plain": [
       "0.800851790200191"
      ]
     },
     "execution_count": 96,
     "metadata": {},
     "output_type": "execute_result"
    }
   ],
   "source": [
    "gb_pre1=precision_score(y_test,gb_pred1,average='weighted')\n",
    "gb_pre1"
   ]
  },
  {
   "cell_type": "code",
   "execution_count": 97,
   "metadata": {},
   "outputs": [
    {
     "data": {
      "text/plain": [
       "0.7991759735967908"
      ]
     },
     "execution_count": 97,
     "metadata": {},
     "output_type": "execute_result"
    }
   ],
   "source": [
    "gb_f11=f1_score(y_test,gb_pred1,average='weighted')\n",
    "gb_f11"
   ]
  },
  {
   "cell_type": "code",
   "execution_count": 98,
   "metadata": {},
   "outputs": [
    {
     "data": {
      "text/plain": [
       "0.8019876242265142"
      ]
     },
     "execution_count": 98,
     "metadata": {},
     "output_type": "execute_result"
    }
   ],
   "source": [
    "gb_recall1=recall_score(y_test,gb_pred1,average='weighted')\n",
    "gb_recall1"
   ]
  },
  {
   "cell_type": "code",
   "execution_count": 99,
   "metadata": {},
   "outputs": [
    {
     "name": "stdout",
     "output_type": "stream",
     "text": [
      "Accuracy score is: 0.8035252203262704\n",
      "\n",
      "Classification Report\n",
      "\n",
      "                           precision    recall  f1-score   support\n",
      "\n",
      "                 diarrhea       0.85      0.89      0.87     19263\n",
      "                   nausea       0.83      0.80      0.82     24246\n",
      "sleep problems (insomnia)       0.77      0.82      0.79     21854\n",
      "                 vomiting       0.74      0.67      0.70     14632\n",
      "\n",
      "                 accuracy                           0.80     79995\n",
      "                macro avg       0.80      0.79      0.80     79995\n",
      "             weighted avg       0.80      0.80      0.80     79995\n",
      "\n"
     ]
    },
    {
     "data": {
      "text/plain": [
       "array([[17118,   927,   644,   574],\n",
       "       [   47, 19476,  2868,  1855],\n",
       "       [ 1455,  1541, 17923,   935],\n",
       "       [ 1531,  1523,  1817,  9761]], dtype=int64)"
      ]
     },
     "execution_count": 99,
     "metadata": {},
     "output_type": "execute_result"
    }
   ],
   "source": [
    "#Extreme Gradiant Boost\n",
    "\n",
    "xgb=XGBClassifier()\n",
    "xgb.fit(x_train,y_train)\n",
    "xgb_pred1=xgb.predict(x_test)\n",
    "\n",
    "print('Accuracy score is:',accuracy_score(y_test,xgb_pred1))\n",
    "print('\\nClassification Report\\n')\n",
    "print(classification_report(y_test,xgb_pred1))\n",
    "\n",
    "confusion_matrix(y_test,xgb_pred1)"
   ]
  },
  {
   "cell_type": "code",
   "execution_count": 100,
   "metadata": {},
   "outputs": [
    {
     "data": {
      "text/plain": [
       "0.8035252203262704"
      ]
     },
     "execution_count": 100,
     "metadata": {},
     "output_type": "execute_result"
    }
   ],
   "source": [
    "xgb_acc1=accuracy_score(y_test,xgb_pred1)\n",
    "xgb_acc1"
   ]
  },
  {
   "cell_type": "code",
   "execution_count": 101,
   "metadata": {},
   "outputs": [
    {
     "data": {
      "text/plain": [
       "0.8027166876311295"
      ]
     },
     "execution_count": 101,
     "metadata": {},
     "output_type": "execute_result"
    }
   ],
   "source": [
    "xgb_pre1=precision_score(y_test,xgb_pred1,average='weighted')\n",
    "xgb_pre1"
   ]
  },
  {
   "cell_type": "code",
   "execution_count": 102,
   "metadata": {},
   "outputs": [
    {
     "data": {
      "text/plain": [
       "0.8023596682991535"
      ]
     },
     "execution_count": 102,
     "metadata": {},
     "output_type": "execute_result"
    }
   ],
   "source": [
    "xgb_f11=f1_score(y_test,xgb_pred1,average='weighted')\n",
    "xgb_f11"
   ]
  },
  {
   "cell_type": "code",
   "execution_count": 103,
   "metadata": {},
   "outputs": [
    {
     "data": {
      "text/plain": [
       "0.8035252203262704"
      ]
     },
     "execution_count": 103,
     "metadata": {},
     "output_type": "execute_result"
    }
   ],
   "source": [
    "xgb_recall1=recall_score(y_test,xgb_pred1,average='weighted')\n",
    "xgb_recall1"
   ]
  },
  {
   "cell_type": "code",
   "execution_count": 104,
   "metadata": {},
   "outputs": [],
   "source": [
    "#KNN\n",
    "\n",
    "empty_list=[]\n",
    "neighbors= np.arange(3,15)\n",
    "\n",
    "for k in neighbors:\n",
    "    \n",
    "    classifier=KNeighborsClassifier(n_neighbors=k,metric='minkowski')\n",
    "    classifier.fit(x_train,y_train)\n",
    "    \n",
    "    pred=classifier.predict(x_test)\n",
    "    acc=accuracy_score(y_test,pred)\n",
    "    empty_list.append(acc)    "
   ]
  },
  {
   "cell_type": "code",
   "execution_count": 105,
   "metadata": {},
   "outputs": [
    {
     "name": "stdout",
     "output_type": "stream",
     "text": [
      "Accuracy score is: 0.7895493468341771\n",
      "\n",
      "Classification Report\n",
      "\n",
      "                           precision    recall  f1-score   support\n",
      "\n",
      "                 diarrhea       0.84      0.88      0.86     19263\n",
      "                   nausea       0.78      0.82      0.80     24246\n",
      "sleep problems (insomnia)       0.79      0.77      0.78     21854\n",
      "                 vomiting       0.72      0.64      0.68     14632\n",
      "\n",
      "                 accuracy                           0.79     79995\n",
      "                macro avg       0.78      0.78      0.78     79995\n",
      "             weighted avg       0.79      0.79      0.79     79995\n",
      "\n"
     ]
    },
    {
     "data": {
      "text/plain": [
       "array([[17007,   756,   699,   801],\n",
       "       [  267, 19832,  2205,  1942],\n",
       "       [ 1659,  2367, 16932,   896],\n",
       "       [ 1310,  2344,  1589,  9389]], dtype=int64)"
      ]
     },
     "execution_count": 105,
     "metadata": {},
     "output_type": "execute_result"
    }
   ],
   "source": [
    "classifier=KNeighborsClassifier(n_neighbors=(12),metric='minkowski')\n",
    "classifier.fit(x_train,y_train)\n",
    "knn_pred1=classifier.predict(x_test)\n",
    "\n",
    "print('Accuracy score is:',accuracy_score(y_test,knn_pred1))\n",
    "print('\\nClassification Report\\n')\n",
    "print(classification_report(y_test,knn_pred1))\n",
    "\n",
    "confusion_matrix(y_test,knn_pred1)"
   ]
  },
  {
   "cell_type": "code",
   "execution_count": 106,
   "metadata": {},
   "outputs": [
    {
     "data": {
      "text/plain": [
       "0.7895493468341771"
      ]
     },
     "execution_count": 106,
     "metadata": {},
     "output_type": "execute_result"
    }
   ],
   "source": [
    "knn_acc1=accuracy_score(y_test,knn_pred1)\n",
    "knn_acc1"
   ]
  },
  {
   "cell_type": "code",
   "execution_count": 107,
   "metadata": {},
   "outputs": [
    {
     "data": {
      "text/plain": [
       "0.7876268848668139"
      ]
     },
     "execution_count": 107,
     "metadata": {},
     "output_type": "execute_result"
    }
   ],
   "source": [
    "knn_pre1=precision_score(y_test,knn_pred1,average='weighted')\n",
    "knn_pre1"
   ]
  },
  {
   "cell_type": "code",
   "execution_count": 108,
   "metadata": {},
   "outputs": [
    {
     "data": {
      "text/plain": [
       "0.7879108058104495"
      ]
     },
     "execution_count": 108,
     "metadata": {},
     "output_type": "execute_result"
    }
   ],
   "source": [
    "knn_f11=f1_score(y_test,knn_pred1,average='weighted')\n",
    "knn_f11"
   ]
  },
  {
   "cell_type": "code",
   "execution_count": 109,
   "metadata": {},
   "outputs": [
    {
     "data": {
      "text/plain": [
       "0.7895493468341771"
      ]
     },
     "execution_count": 109,
     "metadata": {},
     "output_type": "execute_result"
    }
   ],
   "source": [
    "knn_recall1=recall_score(y_test,knn_pred1,average='weighted')\n",
    "knn_recall1"
   ]
  },
  {
   "cell_type": "markdown",
   "metadata": {},
   "source": [
    "# Hyper Parameter Tuning"
   ]
  },
  {
   "cell_type": "markdown",
   "metadata": {},
   "source": [
    "# Decision Tree Classifier"
   ]
  },
  {
   "cell_type": "code",
   "execution_count": 110,
   "metadata": {},
   "outputs": [],
   "source": [
    "# Model building using Decision Tree Classifier\n",
    "\n",
    "dtree=DecisionTreeClassifier(criterion='gini',max_depth=12)\n",
    "dtree_model=dtree.fit(x_train,y_train)\n",
    "dtree_pred=dtree.predict(x_test)"
   ]
  },
  {
   "cell_type": "code",
   "execution_count": 111,
   "metadata": {},
   "outputs": [],
   "source": [
    "dtree_acc=accuracy_score(y_test,dtree_pred)\n",
    "dtree_pre=precision_score(y_test,dtree_pred,average='weighted')\n",
    "dtree_f1=f1_score(y_test,dtree_pred,average='weighted')\n",
    "dtree_recall=recall_score(y_test,dtree_pred,average='weighted')\n",
    "dtree_matrix=confusion_matrix(y_test,dtree_pred)"
   ]
  },
  {
   "cell_type": "code",
   "execution_count": 112,
   "metadata": {},
   "outputs": [
    {
     "name": "stdout",
     "output_type": "stream",
     "text": [
      "Accuracy score is 0.8035252203262704\n",
      "Precision score is 0.8027166876311295\n",
      "F1 score is 0.8023596682991535\n",
      "Recall score is 0.8035252203262704\n",
      "\n",
      " Confusion Matrix\n",
      " [[17118   927   644   574]\n",
      " [   47 19476  2868  1855]\n",
      " [ 1455  1541 17923   935]\n",
      " [ 1531  1523  1817  9761]]\n"
     ]
    }
   ],
   "source": [
    "print('Accuracy score is',dtree_acc)\n",
    "print('Precision score is',dtree_pre)\n",
    "print('F1 score is',dtree_f1)\n",
    "print('Recall score is',dtree_recall)\n",
    "print('\\n Confusion Matrix\\n',dtree_matrix)"
   ]
  },
  {
   "cell_type": "markdown",
   "metadata": {},
   "source": [
    "# Model Comparison"
   ]
  },
  {
   "cell_type": "code",
   "execution_count": 113,
   "metadata": {},
   "outputs": [
    {
     "data": {
      "image/png": "[encoded data removed]",
      "text/plain": [
       "<Figure size 720x432 with 1 Axes>"
      ]
     },
     "metadata": {
      "needs_background": "light"
     },
     "output_type": "display_data"
    }
   ],
   "source": [
    "# Line Plot Comparisons betweeen Accuracy scores of different models before and after Normlaization\n",
    "\n",
    "Accuracy_score=[log_acc,knn_acc,rfc_acc,dtree_acc,gb_acc,xgb_acc]\n",
    "Accuracy_score1=[log_acc1,knn_acc1,rfc_acc1,dtree_acc1,gb_acc1,xgb_acc1]\n",
    "Models=['Logistic_regression','KNN','Random_Forest','Decison_tree','Gradient Boost model','Xtreme Gradient Boost Model']\n",
    "plt.figure(figsize=(10,6))\n",
    "plt.title('Line plot of Accuracy scores between models')\n",
    "sns.lineplot(x=Models,y=Accuracy_score,marker='o',label='Before Normalize')\n",
    "sns.lineplot(x=Models,y=Accuracy_score1,marker='o',label='After Normalize')\n",
    "plt.xlabel('Models')\n",
    "plt.xticks(rotation=45)\n",
    "plt.ylabel('Accuracy scores')\n",
    "plt.legend()\n",
    "plt.show()"
   ]
  },
  {
   "cell_type": "code",
   "execution_count": 114,
   "metadata": {},
   "outputs": [
    {
     "data": {
      "image/png": "[encoded data removed]",
      "text/plain": [
       "<Figure size 720x432 with 1 Axes>"
      ]
     },
     "metadata": {
      "needs_background": "light"
     },
     "output_type": "display_data"
    }
   ],
   "source": [
    "# Line Plot Comparisons betweeen Recall scores of different models before and after Normlaization\n",
    "\n",
    "Recall_score=[log_recall,knn_recall,rfc_recall,dtree_recall,gb_recall,xgb_recall]\n",
    "Recall_score1=[log_recall1,knn_recall1,rfc_recall1,dtree_recall1,gb_recall1,xgb_recall1]\n",
    "Models=['Logistic_regression','KNN','Random_Forest','Decison_tree','Gradient Boost model','Xtreme Gradient Boost Model']\n",
    "plt.figure(figsize=(10,6))\n",
    "plt.title('Line plot of Recall scores between models')\n",
    "sns.lineplot(x=Models,y=Recall_score,marker='o',label='Before Normalize')\n",
    "sns.lineplot(x=Models,y=Recall_score1,marker='o',label='After Normalize')\n",
    "plt.xlabel('Models')\n",
    "plt.xticks(rotation=45)\n",
    "plt.ylabel('Recall scores')\n",
    "plt.legend()\n",
    "plt.show()"
   ]
  },
  {
   "cell_type": "code",
   "execution_count": 115,
   "metadata": {},
   "outputs": [
    {
     "data": {
      "image/png": "[encoded data removed]",
      "text/plain": [
       "<Figure size 720x432 with 1 Axes>"
      ]
     },
     "metadata": {
      "needs_background": "light"
     },
     "output_type": "display_data"
    }
   ],
   "source": [
    "# Line Plot Comparisons betweeen F1 scores of different models before and after Normlaization\n",
    "\n",
    "F1_score=[log_f1,knn_f1,rfc_f1,dtree_f1,gb_f1,xgb_f1]\n",
    "F1_score1=[log_f11,knn_f11,rfc_f11,dtree_f11,gb_f11,xgb_f11]\n",
    "Models=['Logistic_regression','KNN','Random_Forest','Decison_tree','Gradient Boost model','Xtreme Gradient Boost Model']\n",
    "plt.figure(figsize=(10,6))\n",
    "plt.title('Line plot of F1 scores between models')\n",
    "sns.lineplot(x=Models,y=F1_score,marker='o',label='Before Normalize')\n",
    "sns.lineplot(x=Models,y=F1_score1,marker='o',label='After Normalize')\n",
    "plt.xlabel('Models')\n",
    "plt.xticks(rotation=45)\n",
    "plt.ylabel('F1 scores')\n",
    "plt.legend()\n",
    "plt.show()"
   ]
  },
  {
   "cell_type": "code",
   "execution_count": 116,
   "metadata": {},
   "outputs": [
    {
     "data": {
      "image/png": "[encoded data removed]",
      "text/plain": [
       "<Figure size 720x432 with 1 Axes>"
      ]
     },
     "metadata": {
      "needs_background": "light"
     },
     "output_type": "display_data"
    }
   ],
   "source": [
    "# Line Plot Comparisons betweeen Precision scores of different models before and after Normlaization\n",
    "\n",
    "Precision_score=[log_pre,knn_pre,rfc_pre,dtree_pre,gb_pre,xgb_pre]\n",
    "Precision_score1=[log_pre1,knn_pre1,rfc_pre1,dtree_pre1,gb_pre1,xgb_pre1]\n",
    "Models=['Logistic_regression','KNN','Random_Forest','Decison_tree','Gradient Boost model','Xtreme Gradient Boost Model']\n",
    "plt.figure(figsize=(10,6))\n",
    "plt.title('Line plot of Precision scores between models')\n",
    "sns.lineplot(x=Models,y=Precision_score,marker='o',label='Before Normalize')\n",
    "sns.lineplot(x=Models,y=Precision_score1,marker='o',label='After Normalize')\n",
    "plt.xlabel('Models')\n",
    "plt.xticks(rotation=45)\n",
    "plt.ylabel('Precision scores')\n",
    "plt.legend()\n",
    "plt.show()"
   ]
  },
  {
   "cell_type": "code",
   "execution_count": 117,
   "metadata": {},
   "outputs": [
    {
     "data": {
      "image/png": "[encoded data removed]",
      "text/plain": [
       "<Figure size 720x432 with 1 Axes>"
      ]
     },
     "metadata": {
      "needs_background": "light"
     },
     "output_type": "display_data"
    }
   ],
   "source": [
    "# Line Plot Comparisons betweeen F1 scores of different models before and after Normlaization\n",
    "\n",
    "F1_score=[log_f1,knn_f1,rfc_f1,dtree_f1,gb_f1,xgb_f1]\n",
    "Models=['Logistic_regression','KNN','Random_Forest','Decison_tree','Gradient Boost model','Xtreme Gradient Boost Model']\n",
    "plt.figure(figsize=(10,6))\n",
    "plt.title('Bar plot of F1 scores between models')\n",
    "plt.bar(Models,F1_score,color=['skyblue', 'skyblue', 'skyblue', 'red', 'red','red'])\n",
    "plt.xlabel('Models')\n",
    "plt.xticks(rotation=45)\n",
    "plt.ylabel('F1 scores')\n",
    "plt.show()"
   ]
  },
  {
   "cell_type": "markdown",
   "metadata": {},
   "source": [
    "# Prediction"
   ]
  },
  {
   "cell_type": "code",
   "execution_count": 118,
   "metadata": {},
   "outputs": [
    {
     "data": {
      "text/plain": [
       "array(['vomiting'], dtype=object)"
      ]
     },
     "execution_count": 118,
     "metadata": {},
     "output_type": "execute_result"
    }
   ],
   "source": [
    "# Predictng the Side effect using new values\n",
    "\n",
    "Input  = [['31','0','1']]\n",
    "Output = dtree.predict(Input)\n",
    "Output "
   ]
  }
 ],
 "metadata": {
  "kernelspec": {
   "display_name": "Python 3",
   "language": "python",
   "name": "python3"
  },
  "language_info": {
   "codemirror_mode": {
    "name": "ipython",
    "version": 3
   },
   "file_extension": ".py",
   "mimetype": "text/x-python",
   "name": "python",
   "nbconvert_exporter": "python",
   "pygments_lexer": "ipython3",
   "version": "3.8.3"
  }
 },
 "nbformat": 4,
 "nbformat_minor": 4
}
